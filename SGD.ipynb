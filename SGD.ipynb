{
 "cells": [
  {
   "cell_type": "code",
   "execution_count": 1,
   "metadata": {
    "collapsed": true
   },
   "outputs": [],
   "source": [
    "import pandas as pd\n",
    "import numpy as np\n",
    "import matplotlib.pyplot as plt\n",
    "%matplotlib inline "
   ]
  },
  {
   "cell_type": "code",
   "execution_count": 67,
   "metadata": {
    "collapsed": false
   },
   "outputs": [],
   "source": [
    "class SGD:\n",
    "    def __init__(self, epochs, eta):\n",
    "        self.epochs = epochs\n",
    "        self.eta = eta\n",
    "    \n",
    "    def net_input(self, X):\n",
    "        w_0 = self.weights[0]\n",
    "        return np.dot(X, self.weights[1:]) + w_0\n",
    "    \n",
    "    def activation(self, n_input):\n",
    "        return n_input\n",
    "    \n",
    "    def error(self, y, a_input):\n",
    "        return y - a_input\n",
    "    \n",
    "    def update(self, xi, yi):\n",
    "        n_input = self.net_input(xi)\n",
    "        a_input = self.activation(n_input)\n",
    "        e = self.error(yi, a_input)\n",
    "        self.weights[0] = self.weights[0] + self.eta * e\n",
    "        self.weights[1:] = self.weights[1:] + self.eta * e * xi\n",
    "        cost = e ** 2 * 0.5\n",
    "        return cost\n",
    "        \n",
    "    def update_batch(self, X, y):\n",
    "        n_input = self.net_input(X)\n",
    "        a_input = self.activation(n_input)\n",
    "        e = self.error(y, a_input)\n",
    "        self.weights[0] = self.weights[0] + self.eta * e.sum()\n",
    "        self.weights[1:] = self.weights[1:] + self.eta * np.dot(e, X)\n",
    "        cost = 0.5 * np.dot(e, e)\n",
    "        return cost\n",
    "    \n",
    "    def init_weights(self, n):\n",
    "        self.weights = np.random.normal(loc = 0.1, scale = 0.1, size = n + 1)\n",
    "        self.weight_init = True\n",
    "    \n",
    "    def fit(self, X, y, mini_batch = False):\n",
    "        self.init_weights(X.shape[1])\n",
    "        assert(X.shape[1] + 1 == len(self.weights))\n",
    "        costs = []\n",
    "        if not mini_batch:\n",
    "            for _ in range(self.epochs):\n",
    "                cost = 0\n",
    "                for item, label in zip(X, y):\n",
    "                    e = self.update(item, label)\n",
    "                    cost += e\n",
    "                cost = cost / X.shape[1]\n",
    "                costs.append(cost)\n",
    "        else:\n",
    "            for _ in range(self.epochs):\n",
    "                batch_size = 10\n",
    "                iters = X.shape[0] // batch_size + 1\n",
    "                passes = 1\n",
    "                cost = 0\n",
    "                while passes <= iters:\n",
    "                    low = (passes - 1) * batch_size\n",
    "                    high = passes * batch_size\n",
    "                    print \"low is %s high is %s\" %(low, high)\n",
    "                    X_, y_ = X[low:high, :], y[low:high]\n",
    "                    e = self.update_batch(X_, y_)\n",
    "                    cost += e\n",
    "                    passes += 1\n",
    "                cost = cost / X.shape[1]\n",
    "                costs.append(cost)\n",
    "                \n",
    "        return costs"
   ]
  },
  {
   "cell_type": "code",
   "execution_count": 68,
   "metadata": {
    "collapsed": true
   },
   "outputs": [],
   "source": [
    "iris = pd.read_csv(\"iris.data\", names = [\"sepal_length\", \"sepal_width\", \"petal_length\", \"petal_width\", \"label\"])\n",
    "y = iris.iloc[0:100, 4].values\n",
    "y = np.where(y == \"Iris-setosa\",-1, 1)\n",
    "X = iris.iloc[0:100, [0,2]].values"
   ]
  },
  {
   "cell_type": "code",
   "execution_count": 69,
   "metadata": {
    "collapsed": false
   },
   "outputs": [
    {
     "name": "stdout",
     "output_type": "stream",
     "text": [
      "low is 0 high is 10\n",
      "low is 10 high is 20\n",
      "low is 20 high is 30\n",
      "low is 30 high is 40\n",
      "low is 40 high is 50\n",
      "low is 50 high is 60\n",
      "low is 60 high is 70\n",
      "low is 70 high is 80\n",
      "low is 80 high is 90\n",
      "low is 90 high is 100\n",
      "low is 100 high is 110\n",
      "low is 0 high is 10\n",
      "low is 10 high is 20\n",
      "low is 20 high is 30\n",
      "low is 30 high is 40\n",
      "low is 40 high is 50\n",
      "low is 50 high is 60\n",
      "low is 60 high is 70\n",
      "low is 70 high is 80\n",
      "low is 80 high is 90\n",
      "low is 90 high is 100\n",
      "low is 100 high is 110\n",
      "low is 0 high is 10\n",
      "low is 10 high is 20\n",
      "low is 20 high is 30\n",
      "low is 30 high is 40\n",
      "low is 40 high is 50\n",
      "low is 50 high is 60\n",
      "low is 60 high is 70\n",
      "low is 70 high is 80\n",
      "low is 80 high is 90\n",
      "low is 90 high is 100\n",
      "low is 100 high is 110\n",
      "low is 0 high is 10\n",
      "low is 10 high is 20\n",
      "low is 20 high is 30\n",
      "low is 30 high is 40\n",
      "low is 40 high is 50\n",
      "low is 50 high is 60\n",
      "low is 60 high is 70\n",
      "low is 70 high is 80\n",
      "low is 80 high is 90\n",
      "low is 90 high is 100\n",
      "low is 100 high is 110\n",
      "low is 0 high is 10\n",
      "low is 10 high is 20\n",
      "low is 20 high is 30\n",
      "low is 30 high is 40\n",
      "low is 40 high is 50\n",
      "low is 50 high is 60\n",
      "low is 60 high is 70\n",
      "low is 70 high is 80\n",
      "low is 80 high is 90\n",
      "low is 90 high is 100\n",
      "low is 100 high is 110\n",
      "low is 0 high is 10\n",
      "low is 10 high is 20\n",
      "low is 20 high is 30\n",
      "low is 30 high is 40\n",
      "low is 40 high is 50\n",
      "low is 50 high is 60\n",
      "low is 60 high is 70\n",
      "low is 70 high is 80\n",
      "low is 80 high is 90\n",
      "low is 90 high is 100\n",
      "low is 100 high is 110\n",
      "low is 0 high is 10\n",
      "low is 10 high is 20\n",
      "low is 20 high is 30\n",
      "low is 30 high is 40\n",
      "low is 40 high is 50\n",
      "low is 50 high is 60\n",
      "low is 60 high is 70\n",
      "low is 70 high is 80\n",
      "low is 80 high is 90\n",
      "low is 90 high is 100\n",
      "low is 100 high is 110\n",
      "low is 0 high is 10\n",
      "low is 10 high is 20\n",
      "low is 20 high is 30\n",
      "low is 30 high is 40\n",
      "low is 40 high is 50\n",
      "low is 50 high is 60\n",
      "low is 60 high is 70\n",
      "low is 70 high is 80\n",
      "low is 80 high is 90\n",
      "low is 90 high is 100\n",
      "low is 100 high is 110\n",
      "low is 0 high is 10\n",
      "low is 10 high is 20\n",
      "low is 20 high is 30\n",
      "low is 30 high is 40\n",
      "low is 40 high is 50\n",
      "low is 50 high is 60\n",
      "low is 60 high is 70\n",
      "low is 70 high is 80\n",
      "low is 80 high is 90\n",
      "low is 90 high is 100\n",
      "low is 100 high is 110\n",
      "low is 0 high is 10\n",
      "low is 10 high is 20\n",
      "low is 20 high is 30\n",
      "low is 30 high is 40\n",
      "low is 40 high is 50\n",
      "low is 50 high is 60\n",
      "low is 60 high is 70\n",
      "low is 70 high is 80\n",
      "low is 80 high is 90\n",
      "low is 90 high is 100\n",
      "low is 100 high is 110\n"
     ]
    }
   ],
   "source": [
    "sgd1 = SGD(20, 0.001)\n",
    "costs1 = sgd.fit(X, y)\n",
    "sgd2 = SGD(10, 0.001)\n",
    "costs2 = sgd2.fit(X, y, True)"
   ]
  },
  {
   "cell_type": "code",
   "execution_count": 63,
   "metadata": {
    "collapsed": false
   },
   "outputs": [
    {
     "data": {
      "image/png": "[encoded data removed]",
      "text/plain": [
       "<matplotlib.figure.Figure at 0xdfb5da0>"
      ]
     },
     "metadata": {},
     "output_type": "display_data"
    }
   ],
   "source": [
    "plt.plot(range(1, len(costs1) + 1), costs1, marker = \"*\")\n",
    "plt.xlabel(\"epochs\", color = \"red\")\n",
    "plt.ylabel(\"Error\", color = \"red\")\n",
    "plt.title(\"SGD error\", color = \"red\")\n",
    "plt.show()"
   ]
  },
  {
   "cell_type": "code",
   "execution_count": 64,
   "metadata": {
    "collapsed": false
   },
   "outputs": [
    {
     "data": {
      "text/plain": [
       "<matplotlib.text.Text at 0xe93da90>"
      ]
     },
     "execution_count": 64,
     "metadata": {},
     "output_type": "execute_result"
    },
    {
     "data": {
      "image/png": "[encoded data removed]",
      "text/plain": [
       "<matplotlib.figure.Figure at 0xe091400>"
      ]
     },
     "metadata": {},
     "output_type": "display_data"
    }
   ],
   "source": [
    "fig, axes = plt.subplots(nrows=1, ncols = 2, figsize = (10, 5))\n",
    "axes[0].plot(range(1, len(costs1) + 1), marker = \"*\", color = \"blue\")\n",
    "axes[0].set_xlabel(\"epochs\")\n",
    "axes[0].set_ylabel(\"costs\")\n",
    "axes[0].set_title(\"SGD_single\")\n",
    "\n",
    "axes[1].plot(range(1, len(costs2) + 1), costs2, marker = \"*\", color = \"blue\")\n",
    "axes[1].set_xlabel(\"epochs\")\n",
    "axes[1].set_title(\"SGD batch\")\n"
   ]
  },
  {
   "cell_type": "code",
   "execution_count": null,
   "metadata": {
    "collapsed": true
   },
   "outputs": [],
   "source": []
  }
 ],
 "metadata": {
  "anaconda-cloud": {},
  "kernelspec": {
   "display_name": "Python [default]",
   "language": "python",
   "name": "python2"
  },
  "language_info": {
   "codemirror_mode": {
    "name": "ipython",
    "version": 2
   },
   "file_extension": ".py",
   "mimetype": "text/x-python",
   "name": "python",
   "nbconvert_exporter": "python",
   "pygments_lexer": "ipython2",
   "version": "2.7.12"
  }
 },
 "nbformat": 4,
 "nbformat_minor": 1
}
