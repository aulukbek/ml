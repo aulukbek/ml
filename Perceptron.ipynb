{
 "cells": [
  {
   "cell_type": "code",
   "execution_count": 1,
   "metadata": {
    "collapsed": true
   },
   "outputs": [],
   "source": [
    "import pandas as pd\n",
    "import numpy as np\n",
    "import matplotlib.pyplot as plt\n",
    "%matplotlib inline"
   ]
  },
  {
   "cell_type": "code",
   "execution_count": 40,
   "metadata": {
    "collapsed": false
   },
   "outputs": [],
   "source": [
    "class Perceptron:\n",
    "    \n",
    "    def __init__(self, learning_rate, epochs):\n",
    "        self.learning_rate = learning_rate\n",
    "        self.epochs = epochs\n",
    "    \n",
    "    def predict(self, row, weights):\n",
    "        w_0 = weights[0]\n",
    "        additive_value = np.dot(row, weights[1:])\n",
    "        y_ = additive_value + w_0\n",
    "        return np.where(y_ > 0, 1, -1)\n",
    "    \n",
    "    def __update(self, weights, delta, row):\n",
    "        weights[0] = weights[0] + self.learning_rate * delta\n",
    "        weights[1:] = weights[1:] + self.learning_rate * delta * row\n",
    "        return weights\n",
    "    \n",
    "    def __epoch(self, X, y, weights):\n",
    "        error = 0\n",
    "        for row, label in zip(X, y):            \n",
    "            y_ = self.predict(row, weights)\n",
    "            delta = label - y_\n",
    "            weights = self.__update(weights, delta, row)\n",
    "            if not delta: \n",
    "                error += 1\n",
    "        return weights, error\n",
    "    \n",
    "    def fit(self, X, y, weights): \n",
    "        errors = []\n",
    "        for _ in range(self.epochs):\n",
    "            weights, error = self.__epoch(X, y, weights)\n",
    "            errors.append(error)\n",
    "        return weights, errors\n",
    "            \n",
    "        "
   ]
  },
  {
   "cell_type": "code",
   "execution_count": 49,
   "metadata": {
    "collapsed": true
   },
   "outputs": [],
   "source": [
    "p = Perceptron(0.1, 20)"
   ]
  },
  {
   "cell_type": "code",
   "execution_count": 50,
   "metadata": {
    "collapsed": false
   },
   "outputs": [],
   "source": [
    "X = np.random.normal(loc = 0.7, scale = 2, size = (10, 5))\n",
    "y = np.random.choice([1, -1], size = 10)"
   ]
  },
  {
   "cell_type": "code",
   "execution_count": 51,
   "metadata": {
    "collapsed": true
   },
   "outputs": [],
   "source": [
    "weights = np.random.normal(loc = 0.1, scale = 0.1, size = X.shape[1] + 1)"
   ]
  },
  {
   "cell_type": "code",
   "execution_count": 52,
   "metadata": {
    "collapsed": false
   },
   "outputs": [
    {
     "data": {
      "text/plain": [
       "(array([ 1.64777181, -0.05915815, -0.24203425,  0.69092734, -1.05690541,\n",
       "        -0.88363504]),\n",
       " [5, 5, 6, 7, 5, 5, 5, 7, 7, 7, 5, 5, 6, 5, 6, 7, 5, 5, 7, 5])"
      ]
     },
     "execution_count": 52,
     "metadata": {},
     "output_type": "execute_result"
    }
   ],
   "source": [
    "p.fit(X, y, weights)"
   ]
  },
  {
   "cell_type": "code",
   "execution_count": null,
   "metadata": {
    "collapsed": true
   },
   "outputs": [],
   "source": []
  },
  {
   "cell_type": "code",
   "execution_count": null,
   "metadata": {
    "collapsed": true
   },
   "outputs": [],
   "source": []
  }
 ],
 "metadata": {
  "kernelspec": {
   "display_name": "Python [default]",
   "language": "python",
   "name": "python2"
  },
  "language_info": {
   "codemirror_mode": {
    "name": "ipython",
    "version": 2
   },
   "file_extension": ".py",
   "mimetype": "text/x-python",
   "name": "python",
   "nbconvert_exporter": "python",
   "pygments_lexer": "ipython2",
   "version": "2.7.12"
  }
 },
 "nbformat": 4,
 "nbformat_minor": 1
}
